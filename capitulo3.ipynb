{
 "cells": [
  {
   "cell_type": "code",
   "execution_count": 1,
   "id": "1be66cd2-8863-46a7-b258-317f35cc5cb5",
   "metadata": {},
   "outputs": [],
   "source": [
    "# Librerias\n",
    "import numpy as np\n",
    "from IPython.display import HTML, display"
   ]
  },
  {
   "cell_type": "code",
   "execution_count": 2,
   "id": "381cf3c1-5a37-4f4e-820d-1d9eeaeaac8b",
   "metadata": {},
   "outputs": [],
   "source": [
    "# Funciones de apoyo para graficar\n",
    "def tableHtmlNumber(dataArr, decimal):\n",
    "    # Inputs:\n",
    "    # dataArr: Informacion en un formato numpy array\n",
    "    \n",
    "    # Formato para el header\n",
    "    header = \"\".join(['<th style=\"text-align:center; vertical-align:middle\">{}</th>'.format(i+1) for i in range(dataArr.shape[1])])\n",
    "    header = '<th style=\"text-align:center; vertical-align:middle\"></th>' + header\n",
    "    \n",
    "    # formato para las filas\n",
    "    allMat = list()\n",
    "    for row in range(dataArr.shape[0]):\n",
    "        # Se recorre cada elemento\n",
    "        filas = list()\n",
    "        for j in dataArr[row]:\n",
    "            # Se redondea decimal\n",
    "            j_t = np.round(j,decimal)\n",
    "            filas.append(\"\".join('<td style=\"text-align:center; vertical-align:middle\">{}</td>'.format(j_t)))\n",
    "        \n",
    "        # Se agrega el primer contador y el identificador de la fila\n",
    "        allMat.append(\"<tr><th>{}</th>{}</tr>\".format(row+1, \"\".join(filas)))\n",
    "    \n",
    "    # Se crea la tabla\n",
    "    table = '<table style=\"margin: 0 auto\">{}<tr>{}</tr></table>'.format(header, \"\".join(allMat))\n",
    "\n",
    "    return table\n",
    "\n",
    "\n",
    "def tableHtmlArrow(dataArr, dictPolicy):\n",
    "    # Inputs:\n",
    "    # dataArr: Informacion en un formato numpy array\n",
    "\n",
    "    # Se extrae la dimension de la matriz\n",
    "    filas = dataArr.shape[1]\n",
    "    columns = dataArr.shape[0]\n",
    "    \n",
    "    # Codigos de flechas en html\n",
    "    dictArrows = {(-1,0):\"&uarr;\", (0,1):\"&rarr;\",(1,0):\"&darr;\",(0,-1):\"&larr;\"}\n",
    "    \n",
    "    # Formato para el header\n",
    "    header = \"\".join(['<th style=\"text-align:center; vertical-align:middle\">{}</th>'.format(i+1) for i in range(filas)])\n",
    "    header = '<th style=\"text-align:center; vertical-align:middle\"></th>' + header\n",
    "\n",
    "    # Se recodifica con las acciones\n",
    "    allMat = list()\n",
    "    for i in range(filas):\n",
    "        # Se recorren las filas de la matrix\n",
    "        filas = list()\n",
    "        for j in range(columns):\n",
    "            # Se extrae la informacion del diccionario\n",
    "            acciones = \"\".join([dictArrows[tuple(i)] for i in dictPolicy[(i,j)]])\n",
    "            filas.append(\"\".join('<td style=\"text-align:center; vertical-align:middle\">{}</td>'.format(acciones)))\n",
    "\n",
    "        # Se agrega el primer contador y el identificador de la fila\n",
    "        allMat.append(\"<tr><th>{}</th>{}</tr>\".format(i+1, \"\".join(filas)))\n",
    "\n",
    "    # Se crea la tabla\n",
    "    table = '<table style=\"margin: 0 auto\">{}<tr>{}</tr></table>'.format(header, \"\".join(allMat))\n",
    "\n",
    "    return table\n",
    "\n"
   ]
  },
  {
   "cell_type": "markdown",
   "id": "d6183b6f-9cbf-4f29-b96f-4301b51b9c8a",
   "metadata": {},
   "source": [
    "## Solución analítica\n",
    "$v = R + \\gamma P v$ \n",
    "\n",
    "$v = (I - \\gamma P)^{-1}R$"
   ]
  },
  {
   "cell_type": "code",
   "execution_count": 3,
   "id": "ded3a375-6d33-4639-8da1-3a9340ea45e6",
   "metadata": {
    "scrolled": true
   },
   "outputs": [],
   "source": [
    "import numpy as np\n",
    "\n",
    "# Reglas de proceso\n",
    "ladoTab = 5\n",
    "sizeTab = ladoTab*ladoTab\n",
    "dsct = 0.9\n",
    "probMov = 0.25 # Probabilidad de ir a otro recuadro\n",
    "\n",
    "# Nodos especiales\n",
    "nodosEsp = {\"nodoA\": {\"esp_A\":[0,1], \"esp_A_next\":[4,1], \"retorno\":10},\n",
    "            \"nodoB\": {\"esp_B\":[0,3], \"esp_B_next\":[2,3], \"retorno\":5}}\n",
    "\n",
    "# -----------------------------------------------------------------------------------------\n",
    "def probNodo(i,j,ladoTab,probMov):\n",
    "    nodos = {\"Arriba\": np.array([i-1,j]),\n",
    "             \"Derecha\": np.array([i,j+1]),\n",
    "             \"Abajo\": np.array([i+1,j]),\n",
    "             \"Izquierdo\":np.array([i,j-1]),\n",
    "             \"Actual\":np.array([i,j])}\n",
    "\n",
    "    # Retorno del nodo i, j\n",
    "    salTablero = -1 # Castigo si sale del tablero\n",
    "    retorno = 0 \n",
    "    \n",
    "    # Calculo de probabilidades por nodo\n",
    "    probsNodo = dict()\n",
    "    totProb = 0\n",
    "    for key in nodos.keys():\n",
    "        # Verificar que no se escape del tablero\n",
    "        if (nodos[key].min() >= 0) and (nodos[key].max() < ladoTab):\n",
    "            probsNodo[key] = probMov\n",
    "        else:\n",
    "            probsNodo[key] = 0\n",
    "            totProb += probMov\n",
    "            retorno += probMov * salTablero\n",
    "\n",
    "    # Se calculan las probabilidades\n",
    "    probsNodo[\"Actual\"] = totProb \n",
    "        \n",
    "    return nodos, probsNodo, retorno\n",
    "\n",
    "# -----------------------------------------------------------------------------------------\n",
    "def posiTransicion(nodos, probsNodo, ladoTab, nodosEsp):\n",
    "    # Posiciones        \n",
    "    posicion = np.zeros((ladoTab,ladoTab)) # Se construye matriz con posiciones asociadas al nodo evaluado\n",
    "\n",
    "    # Caso especial A\n",
    "    nodA = nodosEsp[\"nodoA\"][\"esp_A\"]\n",
    "    nodA_next = nodosEsp[\"nodoA\"][\"esp_A_next\"]\n",
    "\n",
    "    if (nodA[0] == nodos[\"Actual\"][0] and nodA[1] == nodos[\"Actual\"][1]):\n",
    "        posicion[nodA_next[0],nodA_next[1]] = 1  # Se mueve con prob 1 al nodo A'\n",
    "        return posicion.flatten()\n",
    "        \n",
    "    # Caso especial B\n",
    "    nodB = nodosEsp[\"nodoB\"][\"esp_B\"]\n",
    "    nodB_next = nodosEsp[\"nodoB\"][\"esp_B_next\"]\n",
    "\n",
    "    if (nodB[0] == nodos[\"Actual\"][0] and nodB[1] == nodos[\"Actual\"][1]):\n",
    "        posicion[nodB_next[0],nodB_next[1]] = 1 # Se mueve con prob 1 al nodo B'\n",
    "        return posicion.flatten()\n",
    "    \n",
    "    # Casos normales\n",
    "    for key in nodos.keys():\n",
    "        if (probsNodo[key]>0):\n",
    "            i_temp = nodos[key][0]\n",
    "            j_temp = nodos[key][1]\n",
    "            \n",
    "            # Se coloca las probabilidades en la matriz\n",
    "            posicion[i_temp,j_temp] = probsNodo[key]\n",
    "\n",
    "    # La matriz se vuelve flat\n",
    "    return posicion.flatten()\n",
    "        "
   ]
  },
  {
   "cell_type": "markdown",
   "id": "b375387b-a1da-4460-af89-4e2a53deba27",
   "metadata": {},
   "source": [
    "# Figura 3.5"
   ]
  },
  {
   "cell_type": "code",
   "execution_count": 4,
   "id": "5a0c674c-bf52-4733-bbab-f9cfd83b3a6e",
   "metadata": {
    "scrolled": true
   },
   "outputs": [],
   "source": [
    "# Solucion analitica\n",
    "# -----------------------------------------------------------------------------------------\n",
    "# Paso 1. Construye la matriz de transicion P y retorno R\n",
    "MatP = list()\n",
    "MatRetorno = np.zeros((ladoTab,ladoTab))\n",
    "for i in range(ladoTab):\n",
    "    for j in range(ladoTab):\n",
    "        nodos, probsNodo, retorno= probNodo(i, j, ladoTab,probMov)\n",
    "        MatP.append(posiTransicion(nodos, probsNodo, ladoTab, nodosEsp))\n",
    "        MatRetorno[i,j] = retorno\n",
    "\n",
    "# ------------------------------------------------------\n",
    "# Se actualiza el retorno para los nodos A y B\n",
    "i_A = nodosEsp[\"nodoA\"][\"esp_A\"][0]\n",
    "j_A = nodosEsp[\"nodoA\"][\"esp_A\"][1]\n",
    "retA = nodosEsp[\"nodoA\"][\"retorno\"]\n",
    "MatRetorno[i_A, j_A] = retA\n",
    "\n",
    "i_B = nodosEsp[\"nodoB\"][\"esp_B\"][0]\n",
    "j_B = nodosEsp[\"nodoB\"][\"esp_B\"][1]\n",
    "retB = nodosEsp[\"nodoB\"][\"retorno\"]\n",
    "MatRetorno[i_B, j_B] = retB\n",
    "\n",
    "# -----------------------------------------------------------------------------------------\n",
    "# Paso 2: Solucion algebraica\n",
    "vectRetorno = MatRetorno.flatten()\n",
    "MatA = np.identity(sizeTab) - dsct*np.array(MatP) \n",
    "solucion = np.linalg.solve(MatA, vectRetorno)\n",
    "solucion = solucion.reshape(ladoTab, -1) # Formato de matriz"
   ]
  },
  {
   "cell_type": "code",
   "execution_count": 5,
   "id": "84d4aa27-7f2c-4505-a0d9-d09a20fe7f08",
   "metadata": {},
   "outputs": [
    {
     "data": {
      "text/html": [
       "<table style=\"margin: 0 auto\"><th style=\"text-align:center; vertical-align:middle\"></th><th style=\"text-align:center; vertical-align:middle\">1</th><th style=\"text-align:center; vertical-align:middle\">2</th><th style=\"text-align:center; vertical-align:middle\">3</th><th style=\"text-align:center; vertical-align:middle\">4</th><th style=\"text-align:center; vertical-align:middle\">5</th><tr><tr><th>1</th><td style=\"text-align:center; vertical-align:middle\">3.3</td><td style=\"text-align:center; vertical-align:middle\">8.8</td><td style=\"text-align:center; vertical-align:middle\">4.4</td><td style=\"text-align:center; vertical-align:middle\">5.3</td><td style=\"text-align:center; vertical-align:middle\">1.5</td></tr><tr><th>2</th><td style=\"text-align:center; vertical-align:middle\">1.5</td><td style=\"text-align:center; vertical-align:middle\">3.0</td><td style=\"text-align:center; vertical-align:middle\">2.3</td><td style=\"text-align:center; vertical-align:middle\">1.9</td><td style=\"text-align:center; vertical-align:middle\">0.5</td></tr><tr><th>3</th><td style=\"text-align:center; vertical-align:middle\">0.1</td><td style=\"text-align:center; vertical-align:middle\">0.7</td><td style=\"text-align:center; vertical-align:middle\">0.7</td><td style=\"text-align:center; vertical-align:middle\">0.4</td><td style=\"text-align:center; vertical-align:middle\">-0.4</td></tr><tr><th>4</th><td style=\"text-align:center; vertical-align:middle\">-1.0</td><td style=\"text-align:center; vertical-align:middle\">-0.4</td><td style=\"text-align:center; vertical-align:middle\">-0.4</td><td style=\"text-align:center; vertical-align:middle\">-0.6</td><td style=\"text-align:center; vertical-align:middle\">-1.2</td></tr><tr><th>5</th><td style=\"text-align:center; vertical-align:middle\">-1.9</td><td style=\"text-align:center; vertical-align:middle\">-1.3</td><td style=\"text-align:center; vertical-align:middle\">-1.2</td><td style=\"text-align:center; vertical-align:middle\">-1.4</td><td style=\"text-align:center; vertical-align:middle\">-2.0</td></tr></tr></table>"
      ],
      "text/plain": [
       "<IPython.core.display.HTML object>"
      ]
     },
     "metadata": {},
     "output_type": "display_data"
    }
   ],
   "source": [
    "display(HTML(tableHtmlNumber(solucion,decimal=1)))"
   ]
  },
  {
   "cell_type": "code",
   "execution_count": 6,
   "id": "e60e900e-dd88-4c5c-aa13-be46a83a34ce",
   "metadata": {},
   "outputs": [],
   "source": [
    "# Solucion numerica\n",
    "# -----------------------------------------------------------------------------------------\n",
    "valFun = np.random.randint(10, size=(ladoTab, ladoTab))\n",
    "\n",
    "acciones = [[-1,0],[0,1],[1,0],[0,-1]]\n",
    "rewardIn = 0\n",
    "rewardOut = -1\n",
    "nodosEsp = {\"nodoA\": {\"esp_A\":[0,1], \"esp_A_next\":[4,1], \"retorno\":10},\n",
    "            \"nodoB\": {\"esp_B\":[0,3], \"esp_B_next\":[2,3], \"retorno\":5}}\n",
    "\n",
    "centinela = True\n",
    "while centinela:\n",
    "    # Se monitorea los valores de la funcion valor\n",
    "    valFun_new = np.zeros((ladoTab, ladoTab))\n",
    "    for i in range(ladoTab):\n",
    "        for j in range(ladoTab):\n",
    "            for accion in acciones:\n",
    "                # ----------------------------------------------------------------\n",
    "                # Se evalua si se esta e un nodo especial A o B\n",
    "                if ([i,j]==nodosEsp[\"nodoA\"][\"esp_A\"]):\n",
    "                    # Actualizacion de la funcion valor\n",
    "                    i_temp = nodosEsp[\"nodoA\"][\"esp_A_next\"][0]\n",
    "                    j_temp = nodosEsp[\"nodoA\"][\"esp_A_next\"][1]                  \n",
    "                    valFun_new[i, j] += probMov * (nodosEsp[\"nodoA\"][\"retorno\"] + dsct * valFun[i_temp, j_temp])\n",
    "                \n",
    "                elif ([i,j]==nodosEsp[\"nodoB\"][\"esp_B\"]):\n",
    "                    # Actualizacion de la funcion valor\n",
    "                    i_temp = nodosEsp[\"nodoB\"][\"esp_B_next\"][0]\n",
    "                    j_temp = nodosEsp[\"nodoB\"][\"esp_B_next\"][1]                  \n",
    "                    valFun_new[i, j] += probMov * (nodosEsp[\"nodoB\"][\"retorno\"] + dsct * valFun[i_temp, j_temp])\n",
    "\n",
    "                # ----------------------------------------------------------------\n",
    "                else:\n",
    "                    # En caso sea un caso normal\n",
    "                    i_temp = i+accion[0]\n",
    "                    j_temp = j+accion[1]\n",
    "    \n",
    "                    # Actualizacion de la funcion valor dentro del tablero\n",
    "                    if (min(i_temp,j_temp) >= 0) and (max(i_temp,j_temp) < ladoTab):\n",
    "                        valFun_new[i, j] += probMov * (rewardIn + dsct * valFun[i_temp, j_temp])\n",
    "                    else:\n",
    "                        # En este caso se vuelve a la misma posicion i, j\n",
    "                        valFun_new[i, j] += probMov * (rewardOut + dsct * valFun[i, j])\n",
    "\n",
    "    # ---------------------------------------------------------------------------\n",
    "    # Se evalua si el algoritmo converge. La funcion valor no cambia\n",
    "    if np.sum(np.abs(valFun - valFun_new)) < 1e-5:\n",
    "        # En caso de que no cambie se para\n",
    "        centinela = False\n",
    "    valFun = valFun_new\n"
   ]
  },
  {
   "cell_type": "code",
   "execution_count": 7,
   "id": "41e575c4-a652-4e46-8821-8364c767b25d",
   "metadata": {},
   "outputs": [
    {
     "data": {
      "text/html": [
       "<table style=\"margin: 0 auto\"><th style=\"text-align:center; vertical-align:middle\"></th><th style=\"text-align:center; vertical-align:middle\">1</th><th style=\"text-align:center; vertical-align:middle\">2</th><th style=\"text-align:center; vertical-align:middle\">3</th><th style=\"text-align:center; vertical-align:middle\">4</th><th style=\"text-align:center; vertical-align:middle\">5</th><tr><tr><th>1</th><td style=\"text-align:center; vertical-align:middle\">3.3</td><td style=\"text-align:center; vertical-align:middle\">8.8</td><td style=\"text-align:center; vertical-align:middle\">4.4</td><td style=\"text-align:center; vertical-align:middle\">5.3</td><td style=\"text-align:center; vertical-align:middle\">1.5</td></tr><tr><th>2</th><td style=\"text-align:center; vertical-align:middle\">1.5</td><td style=\"text-align:center; vertical-align:middle\">3.0</td><td style=\"text-align:center; vertical-align:middle\">2.3</td><td style=\"text-align:center; vertical-align:middle\">1.9</td><td style=\"text-align:center; vertical-align:middle\">0.5</td></tr><tr><th>3</th><td style=\"text-align:center; vertical-align:middle\">0.1</td><td style=\"text-align:center; vertical-align:middle\">0.7</td><td style=\"text-align:center; vertical-align:middle\">0.7</td><td style=\"text-align:center; vertical-align:middle\">0.4</td><td style=\"text-align:center; vertical-align:middle\">-0.4</td></tr><tr><th>4</th><td style=\"text-align:center; vertical-align:middle\">-1.0</td><td style=\"text-align:center; vertical-align:middle\">-0.4</td><td style=\"text-align:center; vertical-align:middle\">-0.4</td><td style=\"text-align:center; vertical-align:middle\">-0.6</td><td style=\"text-align:center; vertical-align:middle\">-1.2</td></tr><tr><th>5</th><td style=\"text-align:center; vertical-align:middle\">-1.9</td><td style=\"text-align:center; vertical-align:middle\">-1.3</td><td style=\"text-align:center; vertical-align:middle\">-1.2</td><td style=\"text-align:center; vertical-align:middle\">-1.4</td><td style=\"text-align:center; vertical-align:middle\">-2.0</td></tr></tr></table>"
      ],
      "text/plain": [
       "<IPython.core.display.HTML object>"
      ]
     },
     "metadata": {},
     "output_type": "display_data"
    }
   ],
   "source": [
    "display(HTML(tableHtmlNumber(valFun,decimal=1)))"
   ]
  },
  {
   "cell_type": "markdown",
   "id": "00c3b91f-9865-40be-bc6d-5a428cd0bd54",
   "metadata": {},
   "source": [
    "# Figura 3.8"
   ]
  },
  {
   "cell_type": "code",
   "execution_count": 8,
   "id": "3b81de97-49b5-46f6-8132-f00a1c1971c7",
   "metadata": {},
   "outputs": [],
   "source": [
    "# -----------------------------------------------------------------------------------------\n",
    "# Figura 3.8\n",
    "valFun = np.random.randint(10, size=(ladoTab, ladoTab))\n",
    "dictPolicy = dict()\n",
    "\n",
    "acciones = [[-1,0],[0,1],[1,0],[0,-1]]\n",
    "rewardIn = 0\n",
    "rewardOut = -1\n",
    "nodosEsp = {\"nodoA\": {\"esp_A\":[0,1], \"esp_A_next\":[4,1], \"retorno\":10},\n",
    "            \"nodoB\": {\"esp_B\":[0,3], \"esp_B_next\":[2,3], \"retorno\":5}}\n",
    "\n",
    "centinela = True\n",
    "while centinela:\n",
    "    # Se monitorea los valores de la funcion valor\n",
    "    valFun_new = np.zeros((ladoTab, ladoTab))\n",
    "    for i in range(ladoTab):\n",
    "        for j in range(ladoTab):\n",
    "            allVal = list()\n",
    "            for accion in acciones:\n",
    "                # ----------------------------------------------------------------\n",
    "                # Se evalua si se esta e un nodo especial A o B\n",
    "                if ([i,j]==nodosEsp[\"nodoA\"][\"esp_A\"]):\n",
    "                    # Actualizacion de la funcion valor\n",
    "                    i_temp = nodosEsp[\"nodoA\"][\"esp_A_next\"][0]\n",
    "                    j_temp = nodosEsp[\"nodoA\"][\"esp_A_next\"][1]\n",
    "                    valCalulo = (nodosEsp[\"nodoA\"][\"retorno\"] + dsct * valFun[i_temp, j_temp])\n",
    "                \n",
    "                elif ([i,j]==nodosEsp[\"nodoB\"][\"esp_B\"]):\n",
    "                    # Actualizacion de la funcion valor\n",
    "                    i_temp = nodosEsp[\"nodoB\"][\"esp_B_next\"][0]\n",
    "                    j_temp = nodosEsp[\"nodoB\"][\"esp_B_next\"][1]                  \n",
    "                    valCalulo = (nodosEsp[\"nodoB\"][\"retorno\"] + dsct * valFun[i_temp, j_temp])\n",
    "\n",
    "                # ----------------------------------------------------------------\n",
    "                else:\n",
    "                    # En caso sea un caso normal\n",
    "                    i_temp = i+accion[0]\n",
    "                    j_temp = j+accion[1]\n",
    "    \n",
    "                    # Actualizacion de la funcion valor dentro del tablero. Recompensa = 0\n",
    "                    if (min(i_temp,j_temp) >= 0) and (max(i_temp,j_temp) < ladoTab):\n",
    "                        valCalulo = (rewardIn + dsct * valFun[i_temp, j_temp])\n",
    "                    else:\n",
    "                        # En este caso se vuelve a la misma posicion i, j. Recompensa = -1\n",
    "                        valCalulo = (rewardOut + dsct * valFun[i, j])\n",
    "                \n",
    "                # Se guarda todos los valores maximos de la funcion valor para cada accion\n",
    "                allVal.append(valCalulo)\n",
    "\n",
    "            # Se guardan las politicas asociadas a la mayor funcion valor\n",
    "            selPolicy = np.argwhere(allVal == np.amax(allVal))\n",
    "            booleanLst  = [True if i in selPolicy else False for i in range(len(acciones))]            \n",
    "            dictPolicy[(i,j)] = [x for x, flag in zip(acciones, booleanLst) if flag]\n",
    "            valFun_new[i, j] = np.max(allVal)\n",
    "            \n",
    "    # ---------------------------------------------------------------------------\n",
    "    # Se evalua si el algoritmo converge. La funcion valor no cambia\n",
    "    if np.sum(np.abs(valFun - valFun_new)) < 1e-10:\n",
    "        # En caso de que no cambie se para\n",
    "        centinela = False\n",
    "    else:\n",
    "        valFun = valFun_new\n"
   ]
  },
  {
   "cell_type": "code",
   "execution_count": 9,
   "id": "0276a158-ff0f-4d6a-96ef-e9b970abda9d",
   "metadata": {},
   "outputs": [
    {
     "data": {
      "text/html": [
       "<table style=\"margin: 0 auto\"><th style=\"text-align:center; vertical-align:middle\"></th><th style=\"text-align:center; vertical-align:middle\">1</th><th style=\"text-align:center; vertical-align:middle\">2</th><th style=\"text-align:center; vertical-align:middle\">3</th><th style=\"text-align:center; vertical-align:middle\">4</th><th style=\"text-align:center; vertical-align:middle\">5</th><tr><tr><th>1</th><td style=\"text-align:center; vertical-align:middle\">22.0</td><td style=\"text-align:center; vertical-align:middle\">24.4</td><td style=\"text-align:center; vertical-align:middle\">22.0</td><td style=\"text-align:center; vertical-align:middle\">19.4</td><td style=\"text-align:center; vertical-align:middle\">17.5</td></tr><tr><th>2</th><td style=\"text-align:center; vertical-align:middle\">19.8</td><td style=\"text-align:center; vertical-align:middle\">22.0</td><td style=\"text-align:center; vertical-align:middle\">19.8</td><td style=\"text-align:center; vertical-align:middle\">17.8</td><td style=\"text-align:center; vertical-align:middle\">16.0</td></tr><tr><th>3</th><td style=\"text-align:center; vertical-align:middle\">17.8</td><td style=\"text-align:center; vertical-align:middle\">19.8</td><td style=\"text-align:center; vertical-align:middle\">17.8</td><td style=\"text-align:center; vertical-align:middle\">16.0</td><td style=\"text-align:center; vertical-align:middle\">14.4</td></tr><tr><th>4</th><td style=\"text-align:center; vertical-align:middle\">16.0</td><td style=\"text-align:center; vertical-align:middle\">17.8</td><td style=\"text-align:center; vertical-align:middle\">16.0</td><td style=\"text-align:center; vertical-align:middle\">14.4</td><td style=\"text-align:center; vertical-align:middle\">13.0</td></tr><tr><th>5</th><td style=\"text-align:center; vertical-align:middle\">14.4</td><td style=\"text-align:center; vertical-align:middle\">16.0</td><td style=\"text-align:center; vertical-align:middle\">14.4</td><td style=\"text-align:center; vertical-align:middle\">13.0</td><td style=\"text-align:center; vertical-align:middle\">11.7</td></tr></tr></table>"
      ],
      "text/plain": [
       "<IPython.core.display.HTML object>"
      ]
     },
     "metadata": {},
     "output_type": "display_data"
    }
   ],
   "source": [
    "display(HTML(tableHtmlNumber(valFun,decimal=1)))"
   ]
  },
  {
   "cell_type": "code",
   "execution_count": 10,
   "id": "20eebaf7-956d-4cc8-a9c2-7be41e3c1ddc",
   "metadata": {},
   "outputs": [
    {
     "data": {
      "text/html": [
       "<table style=\"margin: 0 auto\"><th style=\"text-align:center; vertical-align:middle\"></th><th style=\"text-align:center; vertical-align:middle\">1</th><th style=\"text-align:center; vertical-align:middle\">2</th><th style=\"text-align:center; vertical-align:middle\">3</th><th style=\"text-align:center; vertical-align:middle\">4</th><th style=\"text-align:center; vertical-align:middle\">5</th><tr><tr><th>1</th><td style=\"text-align:center; vertical-align:middle\">&rarr;</td><td style=\"text-align:center; vertical-align:middle\">&uarr;&rarr;&darr;&larr;</td><td style=\"text-align:center; vertical-align:middle\">&larr;</td><td style=\"text-align:center; vertical-align:middle\">&uarr;&rarr;&darr;&larr;</td><td style=\"text-align:center; vertical-align:middle\">&larr;</td></tr><tr><th>2</th><td style=\"text-align:center; vertical-align:middle\">&uarr;&rarr;</td><td style=\"text-align:center; vertical-align:middle\">&uarr;</td><td style=\"text-align:center; vertical-align:middle\">&uarr;&larr;</td><td style=\"text-align:center; vertical-align:middle\">&larr;</td><td style=\"text-align:center; vertical-align:middle\">&larr;</td></tr><tr><th>3</th><td style=\"text-align:center; vertical-align:middle\">&uarr;&rarr;</td><td style=\"text-align:center; vertical-align:middle\">&uarr;</td><td style=\"text-align:center; vertical-align:middle\">&uarr;&larr;</td><td style=\"text-align:center; vertical-align:middle\">&uarr;&larr;</td><td style=\"text-align:center; vertical-align:middle\">&uarr;&larr;</td></tr><tr><th>4</th><td style=\"text-align:center; vertical-align:middle\">&uarr;&rarr;</td><td style=\"text-align:center; vertical-align:middle\">&uarr;</td><td style=\"text-align:center; vertical-align:middle\">&uarr;&larr;</td><td style=\"text-align:center; vertical-align:middle\">&uarr;&larr;</td><td style=\"text-align:center; vertical-align:middle\">&uarr;&larr;</td></tr><tr><th>5</th><td style=\"text-align:center; vertical-align:middle\">&uarr;&rarr;</td><td style=\"text-align:center; vertical-align:middle\">&uarr;</td><td style=\"text-align:center; vertical-align:middle\">&uarr;&larr;</td><td style=\"text-align:center; vertical-align:middle\">&uarr;&larr;</td><td style=\"text-align:center; vertical-align:middle\">&uarr;&larr;</td></tr></tr></table>"
      ],
      "text/plain": [
       "<IPython.core.display.HTML object>"
      ]
     },
     "metadata": {},
     "output_type": "display_data"
    }
   ],
   "source": [
    "display(HTML(tableHtmlArrow(valFun, dictPolicy)))"
   ]
  },
  {
   "cell_type": "code",
   "execution_count": 11,
   "id": "e4701be2-9b5d-43e0-b40e-eb6bb6fc7aca",
   "metadata": {},
   "outputs": [
    {
     "data": {
      "text/html": [
       "<table style=\"margin: 0 auto\"><th style=\"text-align:center; vertical-align:middle\"></th><th style=\"text-align:center; vertical-align:middle\">1</th><th style=\"text-align:center; vertical-align:middle\">2</th><th style=\"text-align:center; vertical-align:middle\">3</th><th style=\"text-align:center; vertical-align:middle\">4</th><th style=\"text-align:center; vertical-align:middle\">5</th><tr><tr><th>1</th><td style=\"text-align:center; vertical-align:middle\">&rarr;</td><td style=\"text-align:center; vertical-align:middle\">&uarr;&rarr;&darr;&larr;</td><td style=\"text-align:center; vertical-align:middle\">&larr;</td><td style=\"text-align:center; vertical-align:middle\">&uarr;&rarr;&darr;&larr;</td><td style=\"text-align:center; vertical-align:middle\">&larr;</td></tr><tr><th>2</th><td style=\"text-align:center; vertical-align:middle\">&uarr;&rarr;</td><td style=\"text-align:center; vertical-align:middle\">&uarr;</td><td style=\"text-align:center; vertical-align:middle\">&uarr;&larr;</td><td style=\"text-align:center; vertical-align:middle\">&larr;</td><td style=\"text-align:center; vertical-align:middle\">&larr;</td></tr><tr><th>3</th><td style=\"text-align:center; vertical-align:middle\">&uarr;&rarr;</td><td style=\"text-align:center; vertical-align:middle\">&uarr;</td><td style=\"text-align:center; vertical-align:middle\">&uarr;&larr;</td><td style=\"text-align:center; vertical-align:middle\">&uarr;&larr;</td><td style=\"text-align:center; vertical-align:middle\">&uarr;&larr;</td></tr><tr><th>4</th><td style=\"text-align:center; vertical-align:middle\">&uarr;&rarr;</td><td style=\"text-align:center; vertical-align:middle\">&uarr;</td><td style=\"text-align:center; vertical-align:middle\">&uarr;&larr;</td><td style=\"text-align:center; vertical-align:middle\">&uarr;&larr;</td><td style=\"text-align:center; vertical-align:middle\">&uarr;&larr;</td></tr><tr><th>5</th><td style=\"text-align:center; vertical-align:middle\">&uarr;&rarr;</td><td style=\"text-align:center; vertical-align:middle\">&uarr;</td><td style=\"text-align:center; vertical-align:middle\">&uarr;&larr;</td><td style=\"text-align:center; vertical-align:middle\">&uarr;&larr;</td><td style=\"text-align:center; vertical-align:middle\">&uarr;&larr;</td></tr></tr></table>"
      ],
      "text/plain": [
       "<IPython.core.display.HTML object>"
      ]
     },
     "metadata": {},
     "output_type": "display_data"
    }
   ],
   "source": [
    "# Otra manera de calcular las politicas optimas\n",
    "valOpti = valFun_new.copy() # Se trabaja en el optimo\n",
    "accionOpti = dict()\n",
    "\n",
    "# Solo se hace una corrida, pues ya estoy en el optimo\n",
    "for i in range(ladoTab):\n",
    "    for j in range(ladoTab):\n",
    "        allVal = list()\n",
    "        for accion in acciones:\n",
    "            # Regla de movimiento\n",
    "            i_temp = i+accion[0]\n",
    "            j_temp = j+accion[1]\n",
    "\n",
    "            # -------------------------------------------------------------------\n",
    "            # Calculo de retorno asociado a la accion\n",
    "            # ----------------------------------------------------------------\n",
    "            # Se evalua si se esta e un nodo especial A o B\n",
    "            if ([i,j]==nodosEsp[\"nodoA\"][\"esp_A\"]):\n",
    "                # Actualizacion de la funcion valor\n",
    "                i_temp = nodosEsp[\"nodoA\"][\"esp_A_next\"][0]\n",
    "                j_temp = nodosEsp[\"nodoA\"][\"esp_A_next\"][1]\n",
    "                valCalulo = (nodosEsp[\"nodoA\"][\"retorno\"] + dsct * valOpti[i_temp, j_temp])\n",
    "            \n",
    "            elif ([i,j]==nodosEsp[\"nodoB\"][\"esp_B\"]):\n",
    "                # Actualizacion de la funcion valor\n",
    "                i_temp = nodosEsp[\"nodoB\"][\"esp_B_next\"][0]\n",
    "                j_temp = nodosEsp[\"nodoB\"][\"esp_B_next\"][1]                  \n",
    "                valCalulo = (nodosEsp[\"nodoB\"][\"retorno\"] + dsct * valOpti[i_temp, j_temp])\n",
    "            \n",
    "            # Casos normales. Actualizacion de la funcion valor dentro del tablero. Recompensa = 0\n",
    "            if (min(i_temp,j_temp) >= 0) and (max(i_temp,j_temp) < ladoTab):\n",
    "                valCalulo = (rewardIn + dsct * valOpti[i_temp, j_temp])\n",
    "            else:\n",
    "                # En este caso se vuelve a la misma posicion i, j. Recompensa = -1\n",
    "                valCalulo = (rewardOut + dsct * valOpti[i, j])\n",
    "            \n",
    "            # Se guarda la recompensa de cada accion\n",
    "            allVal.append(valCalulo)\n",
    "\n",
    "        # Se extrae la accion o acciones con mas valor\n",
    "        selPolicy = np.argwhere(allVal == np.amax(allVal))\n",
    "        booleanLst  = [True if i in selPolicy else False for i in range(len(acciones))]            \n",
    "        accionOpti[(i,j)] = [x for x, flag in zip(acciones, booleanLst) if flag]\n",
    "\n",
    "display(HTML(tableHtmlArrow(valOpti, accionOpti)))"
   ]
  }
 ],
 "metadata": {
  "kernelspec": {
   "display_name": "Python 3 (ipykernel)",
   "language": "python",
   "name": "python3"
  },
  "language_info": {
   "codemirror_mode": {
    "name": "ipython",
    "version": 3
   },
   "file_extension": ".py",
   "mimetype": "text/x-python",
   "name": "python",
   "nbconvert_exporter": "python",
   "pygments_lexer": "ipython3",
   "version": "3.11.9"
  }
 },
 "nbformat": 4,
 "nbformat_minor": 5
}
